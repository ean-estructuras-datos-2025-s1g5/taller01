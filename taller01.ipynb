{
  "cells": [
    {
      "cell_type": "markdown",
      "id": "fb395c42-deb8-4b64-8326-36546e1983f1",
      "metadata": {
        "editable": true,
        "tags": [],
        "id": "fb395c42-deb8-4b64-8326-36546e1983f1"
      },
      "source": [
        "# Estructura de Datos\n",
        "## Taller 01: Introducción a la programación orientada por objetos en Python\n",
        "\n",
        "Nombre del estudiante: Jose\n",
        "\n",
        "Correo del estudiante:\n",
        "\n",
        "---"
      ]
    },
    {
      "cell_type": "markdown",
      "id": "08d7d737",
      "metadata": {
        "deletable": false,
        "editable": false,
        "tags": [],
        "id": "08d7d737"
      },
      "source": [
        "### Clases en Python\n",
        "\n",
        "En este primer taller trabajaremos los conceptos de programación orientada por objetos en Python.\n",
        "\n",
        "Les recomiendo revisar los conceptos relacionados con este tema, en especial téminos como clase, objeto, atributo y método.  \n",
        "\n",
        "Les recomiendo el sitio \"Foundations of Python Programming\", [Capítulo 20](https://runestone.academy/ns/books/published/fopp/index.html).\n",
        "\n",
        "Comencemos.\n",
        "\n",
        "---"
      ]
    },
    {
      "cell_type": "markdown",
      "id": "35bf5ac2",
      "metadata": {
        "editable": true,
        "tags": [],
        "id": "35bf5ac2"
      },
      "source": [
        "### La clase Punto\n",
        "\n",
        "Vamos a desarrollar una clase **Punto**  en Python. Esta clase va a responder al siguiente diagrama de clases:\n",
        "\n",
        "![Clase Triángulo](https://github.com/ean-estructuras-datos-2025-s1/taller01/blob/main/clase_triangulo.png?raw=true)\n",
        "\n",
        "Esta clase tiene la siguiente especificación:\n",
        "\n",
        "* Tiene dos atributos privados, `x` e `y`, ambos, números reales (`float`).\n",
        "* El constructor (`init`) tiene dos datos de entrada o parámetros.\n",
        "* El método <code>dar_x</code>, no tiene datos de entrada y retorna el valor del atributo `x`\n",
        "* El método `dar_y` no tiene parámetros y retorna el valor del atributo `y`.\n",
        "* El método `cambiar_x` recibe el nuevoX y guarda ese valor en el atributo `x` del punto.\n",
        "* El método `cambiar_y` recibe el nuevoY y guarda ese valor en el atributo `y` del punto.\n",
        "* El método `distancia_origen` no recibe parámetros y retorna la distancia al origen del punto. Esta distancia se halla a partir de la siguiente formula:\n",
        "\n",
        "$$\n",
        "\\sqrt{x^2 + y^2}\n",
        "$$\n",
        "\n",
        "* El método `cuadrante` no recibe ningún parámetro y retorna el cuadrante donde se encuentra el punto. Tenga en cuenta la siguiente figura para saber el cuadrante correspondiente:\n",
        "\n",
        "![Cuadrantes en el eje cartesiano](https://www.geogebra.org/resource/FYATZx8k/kVD3PbXybQ7exuMj/material-FYATZx8k.png)\n",
        "\n",
        "* El método `angulo` halla el valor del ángulo entre el punto y el eje horizontal del plano cartesiano. El método no recibe parámetros y retorna el ángulo en radianes. La fórmula para encontrar este ángulo ($\\theta$) es la siguiente:\n",
        "\n",
        "$$\n",
        "\\theta = \\arctan(\\frac{y}{x})\n",
        "$$\n",
        "\n",
        "---\n",
        "\n",
        "Su trabajo ahora consiste en codificar la clase (**SOLO LA CLASE**) y revisar las pruebas que se encuentran a continuación. **NO HAY PROGRAMA**, solo realice las pruebas.\n",
        "\n",
        "\n"
      ]
    },
    {
      "cell_type": "code",
      "execution_count": null,
      "id": "fc56db65",
      "metadata": {
        "editable": true,
        "tags": [],
        "id": "fc56db65"
      },
      "outputs": [],
      "source": [
        "from math import sqrt, atan\n",
        "\n",
        "class Punto:\n",
        "    \"\"\"\n",
        "    Esta clase permite representar y manipular un punto y sus coordenadas x e y\n",
        "    \"\"\"\n",
        "    pass\n"
      ]
    },
    {
      "cell_type": "markdown",
      "id": "dad5efdf",
      "metadata": {
        "editable": false,
        "tags": [],
        "id": "dad5efdf"
      },
      "source": [
        "---\n",
        "\n",
        "### Pruebas\n",
        "\n",
        "Ejecute las pruebas que vienen a continuación\n"
      ]
    },
    {
      "cell_type": "code",
      "execution_count": null,
      "id": "f0d7b872",
      "metadata": {
        "editable": false,
        "tags": [],
        "id": "f0d7b872"
      },
      "outputs": [],
      "source": [
        "import unittest\n",
        "\n",
        "# Definición del caso de prueba\n",
        "class PruebaPunto(unittest.TestCase):\n",
        "    \"\"\"\"Casos de prueba de la clase Punto\"\"\"\n",
        "\n",
        "    def test_construtor_punto(self):\n",
        "        punto = Punto(x = 3.0, y = 4.0)\n",
        "        self.assertAlmostEqual(punto.dar_x(), 3.0, places=1)\n",
        "        self.assertAlmostEqual(punto.dar_y(), 4.0, places=1)\n",
        "\n",
        "    def test_modificador_punto(self):\n",
        "        punto = Punto(x = 0.0, y = 0.0)\n",
        "        punto.cambiar_x(nuevoX= 5.0)\n",
        "        self.assertAlmostEqual(punto.dar_x(), 5.0, 1)\n",
        "        self.assertAlmostEqual(punto.dar_y(), 0.0, 1)\n",
        "        punto.cambiar_y(nuevoY = -12.5)\n",
        "        self.assertAlmostEqual(punto.dar_x(), 5.0, 1)\n",
        "        self.assertAlmostEqual(punto.dar_y(), -12.5, 1)\n",
        "\n",
        "    def test_distancia_origen(self):\n",
        "        p1 = Punto(x = -3.0, y = -4.0)\n",
        "        p2 = Punto(x = 12.5, y = -6.0)\n",
        "        self.assertAlmostEqual(p2.distancia_origen(), 13.8654, places=4)\n",
        "        self.assertAlmostEqual(p1.distancia_origen(), 5.0, places=1)\n",
        "\n",
        "    def test_cuadrante(self):\n",
        "        p1 = Punto(10.0, 5.0)\n",
        "        self.assertEqual(1, p1.cuadrante())\n",
        "        self.assertEqual(1, Punto(100.0, 2000.0).cuadrante())\n",
        "        self.assertEqual(2, Punto(x = -12345.178, y = 891.166).cuadrante())\n",
        "        self.assertEqual(3, Punto(x = -125.333, y = -1987.4441).cuadrante())\n",
        "        self.assertEqual(4, Punto(x = 67111.911, y = -21991.1231).cuadrante())\n",
        "\n",
        "    def test_angulo(self):\n",
        "        self.assertAlmostEqual(Punto(x = 3.0, y = 4.0).angulo(), 0.9273, places=4)\n",
        "        self.assertAlmostEqual(Punto(x = -5.0, y = 10.0).angulo(), -1.10714, places=4)\n",
        "        self.assertAlmostEqual(Punto(x = 5.0, y = 0.0).angulo(), 0.0, places=1)\n",
        "        self.assertAlmostEqual(Punto(x = -1.0, y = 40.0).angulo(), -1.5458, places=4)\n",
        "\n",
        "\n",
        "# Ejecución de los casos de prueba\n",
        "unittest.main(argv=[''], verbosity=2, exit=False)"
      ]
    }
  ],
  "metadata": {
    "kernelspec": {
      "display_name": "Python 3 (ipykernel)",
      "language": "python",
      "name": "python3"
    },
    "language_info": {
      "codemirror_mode": {
        "name": "ipython",
        "version": 3
      },
      "file_extension": ".py",
      "mimetype": "text/x-python",
      "name": "python",
      "nbconvert_exporter": "python",
      "pygments_lexer": "ipython3",
      "version": "3.12.2"
    },
    "colab": {
      "provenance": []
    }
  },
  "nbformat": 4,
  "nbformat_minor": 5
}